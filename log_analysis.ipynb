{
 "cells": [
  {
   "cell_type": "markdown",
   "metadata": {},
   "source": [
    "**Log File Analysis in Python**\n",
    "\n",
    "**Overview**\n",
    "This notebook demonstrates log file analysis using Python.\n",
    "It includes the following steps:\n",
    "1. Counting requests per IP address.\n",
    "2. Identifying the most frequently accessed endpoint.\n",
    "3. Detecting suspicious activity based on failed login attempts.\n",
    "4. Saving results to a CSV file.\n"
   ]
  },
  {
   "cell_type": "code",
   "execution_count": 2,
   "metadata": {},
   "outputs": [],
   "source": [
    "from collections import Counter\n",
    "from typing import List, Tuple, Dict\n",
    "import csv"
   ]
  },
  {
   "cell_type": "markdown",
   "metadata": {},
   "source": [
    "**1. Counting Requests Per IP Address**"
   ]
  },
  {
   "cell_type": "code",
   "execution_count": 3,
   "metadata": {},
   "outputs": [],
   "source": [
    "def count_requests_per_ip(file_path: str) -> List[Tuple[str, int]]:\n",
    "    \"\"\"\n",
    "    Counts the number of requests per IP address.\n",
    "    :param file_path: Path to the log file.\n",
    "    :return: A sorted list of (IP address, request count).\n",
    "    \"\"\"\n",
    "    ip_counter = Counter()\n",
    "\n",
    "    with open(file_path, 'r') as file:\n",
    "        for line in file:\n",
    "            ip = line.split(' ')[0]  # Extract IP from the log line\n",
    "            ip_counter[ip] += 1\n",
    "\n",
    "    # Return sorted by request count (descending)\n",
    "    return ip_counter.most_common()"
   ]
  },
  {
   "cell_type": "markdown",
   "metadata": {},
   "source": [
    "**2. Finding the Most Frequently Accessed Endpoint**"
   ]
  },
  {
   "cell_type": "code",
   "execution_count": 4,
   "metadata": {},
   "outputs": [],
   "source": [
    "def find_most_frequent_endpoint(file_path: str) -> Tuple[str, int]:\n",
    "    \"\"\"\n",
    "    Identifies the most frequently accessed endpoint.\n",
    "    :param file_path: Path to the log file.\n",
    "    :return: (Most accessed endpoint, access count).\n",
    "    \"\"\"\n",
    "    endpoint_counter = Counter()\n",
    "\n",
    "    with open(file_path, 'r') as file:\n",
    "        for line in file:\n",
    "            try:\n",
    "                endpoint = line.split(' ')[6]  # Extract endpoint\n",
    "                endpoint_counter[endpoint] += 1\n",
    "            except IndexError:\n",
    "                continue  # Skip malformed lines\n",
    "\n",
    "    # Return the most common endpoint or a default value if none are found\n",
    "    return endpoint_counter.most_common(1)[0] if endpoint_counter else (\"No Endpoint\", 0)\n"
   ]
  },
  {
   "cell_type": "markdown",
   "metadata": {},
   "source": [
    "**3. Detecting Suspicious Activity**"
   ]
  },
  {
   "cell_type": "code",
   "execution_count": 5,
   "metadata": {},
   "outputs": [],
   "source": [
    "def detect_suspicious_activity(file_path: str, threshold: int = 10) -> Dict[str, int]:\n",
    "    \"\"\"\n",
    "    Detects suspicious IPs with failed login attempts exceeding a threshold.\n",
    "    :param file_path: Path to the log file.\n",
    "    :param threshold: Threshold for failed login attempts.\n",
    "    :return: Dictionary of suspicious IPs with their failed login counts.\n",
    "    \"\"\"\n",
    "    failed_attempts = Counter()\n",
    "\n",
    "    with open(file_path, 'r') as file:\n",
    "        for line in file:\n",
    "            if \"401\" in line or \"Invalid credentials\" in line:  # Indicators of failed login\n",
    "                ip = line.split(' ')[0]\n",
    "                failed_attempts[ip] += 1\n",
    "\n",
    "    # Filter IPs exceeding the threshold\n",
    "    return {ip: count for ip, count in failed_attempts.items() if count > threshold}\n"
   ]
  },
  {
   "cell_type": "markdown",
   "metadata": {},
   "source": [
    "**4. Saving Results to CSV**"
   ]
  },
  {
   "cell_type": "code",
   "execution_count": 6,
   "metadata": {},
   "outputs": [],
   "source": [
    "def save_results_to_csv(\n",
    "    ip_counts: List[Tuple[str, int]],\n",
    "    most_frequent_endpoint: Tuple[str, int],\n",
    "    suspicious_ips: Dict[str, int],\n",
    "    output_file: str = 'log_analysis_results.csv'\n",
    "):\n",
    "    \"\"\"\n",
    "    Saves the analysis results to a CSV file with a consistent format.\n",
    "    :param ip_counts: List of (IP address, request count).\n",
    "    :param most_frequent_endpoint: (Endpoint, access count).\n",
    "    :param suspicious_ips: Dictionary of suspicious IPs and counts.\n",
    "    :param output_file: Path to the output CSV file.\n",
    "    \"\"\"\n",
    "    with open(output_file, 'w', newline='') as csvfile:\n",
    "        writer = csv.writer(csvfile)\n",
    "\n",
    "        # Write section headers and data with consistent structure\n",
    "        writer.writerow([\"Section\", \"Data\"])\n",
    "\n",
    "        # Requests per IP\n",
    "        writer.writerow([\"Requests per IP\"])\n",
    "        writer.writerow([\"IP Address\", \"Request Count\"])\n",
    "        for ip, count in ip_counts:\n",
    "            writer.writerow([ip, count])\n",
    "\n",
    "        # Most Accessed Endpoint\n",
    "        writer.writerow([])  # Blank row for separation\n",
    "        writer.writerow([\"Most Accessed Endpoint\"])\n",
    "        writer.writerow([\"Endpoint\", \"Access Count\"])\n",
    "        writer.writerow([most_frequent_endpoint[0], most_frequent_endpoint[1]])\n",
    "\n",
    "        # Suspicious Activity\n",
    "        writer.writerow([])  # Blank row for separation\n",
    "        writer.writerow([\"Suspicious Activity\"])\n",
    "        writer.writerow([\"IP Address\", \"Failed Login Count\"])\n",
    "        for ip, count in suspicious_ips.items():\n",
    "            writer.writerow([ip, count])\n",
    "\n",
    "    print(f\"Results saved to {output_file}\")\n"
   ]
  },
  {
   "cell_type": "markdown",
   "metadata": {},
   "source": [
    "**5. Main Function**"
   ]
  },
  {
   "cell_type": "code",
   "execution_count": 8,
   "metadata": {},
   "outputs": [
    {
     "name": "stdout",
     "output_type": "stream",
     "text": [
      "Processing log file...\n",
      "Processed 5 unique IP addresses.\n",
      "Most Accessed Endpoint: /login (13 times)\n",
      "Suspicious IPs detected: 0\n",
      "Results saved to log_analysis_results.csv\n"
     ]
    }
   ],
   "source": [
    "def main(file_path: str):\n",
    "    \"\"\"\n",
    "    Main function to execute log file analysis.\n",
    "    :param file_path: Path to the log file.\n",
    "    \"\"\"\n",
    "    print(\"Processing log file...\")\n",
    "\n",
    "    # Step 1: Count Requests per IP\n",
    "    ip_counts = count_requests_per_ip(file_path)\n",
    "    print(f\"Processed {len(ip_counts)} unique IP addresses.\")\n",
    "\n",
    "    # Step 2: Identify Most Accessed Endpoint\n",
    "    most_frequent_endpoint = find_most_frequent_endpoint(file_path)\n",
    "    print(f\"Most Accessed Endpoint: {most_frequent_endpoint[0]} ({most_frequent_endpoint[1]} times)\")\n",
    "\n",
    "    # Step 3: Detect Suspicious Activity\n",
    "    suspicious_ips = detect_suspicious_activity(file_path)\n",
    "    print(f\"Suspicious IPs detected: {len(suspicious_ips)}\")\n",
    "\n",
    "    # Step 4: Save Results to CSV\n",
    "    save_results_to_csv(ip_counts, most_frequent_endpoint, suspicious_ips)\n",
    "\n",
    "log_file_path = 'sample.log'  \n",
    "main(log_file_path)"
   ]
  }
 ],
 "metadata": {
  "kernelspec": {
   "display_name": "base",
   "language": "python",
   "name": "python3"
  },
  "language_info": {
   "codemirror_mode": {
    "name": "ipython",
    "version": 3
   },
   "file_extension": ".py",
   "mimetype": "text/x-python",
   "name": "python",
   "nbconvert_exporter": "python",
   "pygments_lexer": "ipython3",
   "version": "3.12.4"
  }
 },
 "nbformat": 4,
 "nbformat_minor": 2
}
